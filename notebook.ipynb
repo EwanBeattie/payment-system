{
 "cells": [
  {
   "cell_type": "code",
   "execution_count": 18,
   "id": "713f7273",
   "metadata": {},
   "outputs": [
    {
     "name": "stdout",
     "output_type": "stream",
     "text": [
      "# \n",
      "c \n"
     ]
    },
    {
     "data": {
      "text/plain": [
       "'c'"
      ]
     },
     "execution_count": 18,
     "metadata": {},
     "output_type": "execute_result"
    }
   ],
   "source": [
    "result = ''\n",
    "s = '#c'\n",
    "for char in s:\n",
    "    print(char, result)\n",
    "\n",
    "    if char == '*':\n",
    "        if len(result) == 0:\n",
    "            continue\n",
    "        else:\n",
    "            result = result[:-1]\n",
    "    elif char == '#':\n",
    "        if len(result) == 0:\n",
    "            continue\n",
    "        else:\n",
    "            result = result + result\n",
    "    elif char == '%':\n",
    "        result = result[::-1]\n",
    "    else:\n",
    "        result += char\n",
    "\n",
    "\n",
    "result"
   ]
  },
  {
   "cell_type": "code",
   "execution_count": 17,
   "id": "bedd90e8",
   "metadata": {},
   "outputs": [
    {
     "data": {
      "text/plain": [
       "'c'"
      ]
     },
     "execution_count": 17,
     "metadata": {},
     "output_type": "execute_result"
    }
   ],
   "source": [
    "char = 'c'\n",
    "result = ''\n",
    "\n",
    "result = result + char\n",
    "\n",
    "result"
   ]
  }
 ],
 "metadata": {
  "kernelspec": {
   "display_name": ".venv",
   "language": "python",
   "name": "python3"
  },
  "language_info": {
   "codemirror_mode": {
    "name": "ipython",
    "version": 3
   },
   "file_extension": ".py",
   "mimetype": "text/x-python",
   "name": "python",
   "nbconvert_exporter": "python",
   "pygments_lexer": "ipython3",
   "version": "3.13.2"
  }
 },
 "nbformat": 4,
 "nbformat_minor": 5
}
